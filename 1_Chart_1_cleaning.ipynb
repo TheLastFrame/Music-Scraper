{
 "cells": [
  {
   "cell_type": "code",
   "execution_count": null,
   "metadata": {},
   "outputs": [],
   "source": [
    "import pandas as pd\n",
    "\n",
    "def clean_data(df):\n",
    "    #clean data\n",
    "    df['date'] = pd.to_datetime(df['date'])\n",
    "    # Create a new column 'ID' by splitting the 'link' column and taking the last part\n",
    "    df['ID'] = df['url'].apply(lambda x: x.split('/')[-1])\n",
    "    #drop useless tables\n",
    "    df.drop(columns=['url', 'trend', 'rank', 'chart'], inplace=True)\n",
    "    #add IsChristmasSong\n",
    "    top_xmas_songs_df = pd.read_csv('data/top_xmas_songs_with_ids.csv')\n",
    "    # Create a new column 'IsChristmasSong' and set it to True if the 'ID' is in the top Christmas songs DataFrame\n",
    "    df['IsChristmasSong'] = df['ID'].isin(top_xmas_songs_df['SongID'])\n",
    "    # Create a new column 'IsChristmasSongByTitle' and set it to True if 'christmas' is in the 'title' column\n",
    "    df['IsChristmasSongByTitle'] = df['title'].str.lower().str.contains('christmas')\n",
    "    # Update 'IsChristmasSong' to True if either 'IsChristmasSong' or 'IsChristmasSongByTitle' is True\n",
    "    df['IsChristmasSong'] = df['IsChristmasSong'] | df['IsChristmasSongByTitle']\n",
    "    df = df[df['IsChristmasSong'] == True]\n",
    "    #aggregate christmas (and non) streams per day\n",
    "    df = df.groupby(['date'])['streams'].sum().reset_index()\n",
    "    # delete days without streams\n",
    "    df = df[df['streams']>0]\n",
    "    return df\n",
    "\n",
    "# Loaded variable 'df' from URI: f:\\Daten\\Privat\\Projekte\\#01_Active_Projects\\14_DJ_WS2024_Music-Scraper\\data\\daily_charts.csv\n",
    "df = pd.read_csv(r'f:\\Daten\\Privat\\Projekte\\#01_Active_Projects\\14_DJ_WS2024_Music-Scraper\\data\\daily_charts.csv')\n",
    "\n",
    "df_clean = clean_data(df.copy())\n",
    "df_clean.head()"
   ]
  }
 ],
 "metadata": {
  "kernelspec": {
   "display_name": "DataJournalism",
   "language": "python",
   "name": "python3"
  },
  "language_info": {
   "name": "python",
   "version": "3.12.7"
  }
 },
 "nbformat": 4,
 "nbformat_minor": 2
}
